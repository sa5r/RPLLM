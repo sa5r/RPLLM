{
 "cells": [
  {
   "cell_type": "code",
   "execution_count": 2,
   "metadata": {},
   "outputs": [],
   "source": [
    "import networkx as nx\n",
    "import numpy as np\n",
    "import os\n",
    "import random"
   ]
  },
  {
   "cell_type": "code",
   "execution_count": 2,
   "metadata": {},
   "outputs": [],
   "source": [
    "\n",
    "G = nx.DiGraph()\n",
    "with open('data/FB15K/train.tsv', 'r') as f:\n",
    "    i = 0\n",
    "    for line in f:\n",
    "        items = line.strip().split('\\t')\n",
    "        head = items[0].strip()\n",
    "        tail = items[2].strip()\n",
    "        rel = items[1].strip()\n",
    "        G.add_node(head)\n",
    "        G.add_node(tail)\n",
    "        G.add_edge(head, tail, name = rel)\n",
    "\n"
   ]
  },
  {
   "cell_type": "code",
   "execution_count": 4,
   "metadata": {},
   "outputs": [
    {
     "data": {
      "text/plain": [
       "'/m/027rn'"
      ]
     },
     "execution_count": 4,
     "metadata": {},
     "output_type": "execute_result"
    }
   ],
   "source": [
    "n = list( G.nodes )\n",
    "n[0]"
   ]
  },
  {
   "cell_type": "code",
   "execution_count": 3,
   "metadata": {},
   "outputs": [
    {
     "name": "stdout",
     "output_type": "stream",
     "text": [
      "rels 1000\n"
     ]
    }
   ],
   "source": [
    "# extract inductive test nodes\n",
    "inductive_test = ''\n",
    "with open('data/FB15K/test.tsv', 'r') as f:\n",
    "    lines = f.readlines()\n",
    "\n",
    "# sample\n",
    "import random\n",
    "test_inductive_list = random.sample(lines, int(len(lines) / 10))\n",
    "test_inductive_str = ''.join(test_inductive_list)\n",
    "# for line in test_inductive_list:\n",
    "#     test_inductive_str += line + '\\n'\n",
    "\n",
    "with open('data/FB15K/test_inductive.tsv', 'w') as f:\n",
    "    f.write(test_inductive_str)\n",
    "\n",
    "inductive_test_G = nx.DiGraph()\n",
    "for line in test_inductive_list:\n",
    "    items = line.strip().split('\\t')\n",
    "    head = items[0].strip()\n",
    "    tail = items[2].strip()\n",
    "    rel = items[1].strip()\n",
    "    inductive_test_G.add_node(head)\n",
    "    inductive_test_G.add_node(tail)\n",
    "    inductive_test_G.add_edge(head, tail, name = rel)\n",
    "\n",
    "train_inductive = ''\n",
    "inductive_train_G = nx.DiGraph()\n",
    "rels = set()\n",
    "with open('data/FB15K/train.tsv', 'r') as f:\n",
    "    for line in f:\n",
    "        items = line.strip().split('\\t')\n",
    "        head = items[0].strip()\n",
    "        tail = items[2].strip()\n",
    "        rel = items[1].strip()\n",
    "        \n",
    "        inductive_train_G.add_node(head)\n",
    "        inductive_train_G.add_node(tail)\n",
    "        inductive_train_G.add_edge(head, tail, name = rel)\n",
    "        if head in inductive_test_G.nodes or tail in inductive_test_G.nodes:\n",
    "            continue\n",
    "        train_inductive += head + '\\t' + rel + '\\t' + tail + '\\n'\n",
    "        rels.add(rel)\n",
    "print('rels', len(rels))\n",
    "with open('data/FB15K/train_inductive.tsv', 'w') as f:\n",
    "    f.write(train_inductive)\n",
    "\n",
    "dev_inductive = ''\n",
    "with open('data/FB15K/dev.tsv', 'r') as f:\n",
    "    for line in f:\n",
    "        items = line.strip().split('\\t')\n",
    "        head = items[0].strip()\n",
    "        tail = items[2].strip()\n",
    "        rel = items[1].strip()\n",
    "        if head in inductive_test_G.nodes or tail in inductive_test_G.nodes:\n",
    "            continue\n",
    "        dev_inductive += head + '\\t' + rel + '\\t' + tail + '\\n'\n",
    "\n",
    "with open('data/FB15K/dev_inductive.tsv', 'w') as f:\n",
    "    f.write(dev_inductive)"
   ]
  },
  {
   "cell_type": "code",
   "execution_count": 7,
   "metadata": {},
   "outputs": [
    {
     "name": "stdout",
     "output_type": "stream",
     "text": [
      "rels 532\n"
     ]
    }
   ],
   "source": [
    "# extract inductive test nodes\n",
    "inductive_test = ''\n",
    "with open('data/FB15K/test.tsv', 'r') as f:\n",
    "    lines = f.readlines()\n",
    "\n",
    "# sample\n",
    "import random\n",
    "test_inductive_list = random.sample(lines, int(len(lines) / 10))\n",
    "test_inductive_str = ''.join(test_inductive_list)\n",
    "# for line in test_inductive_list:\n",
    "#     test_inductive_str += line + '\\n'\n",
    "\n",
    "with open('data/FB15K/test_inductive.tsv', 'w') as f:\n",
    "    f.write(test_inductive_str)\n",
    "test_rels = set()\n",
    "\n",
    "inductive_test_G = nx.DiGraph()\n",
    "for line in test_inductive_list:\n",
    "    items = line.strip().split('\\t')\n",
    "    head = items[0].strip()\n",
    "    tail = items[2].strip()\n",
    "    rel = items[1].strip()\n",
    "    inductive_test_G.add_node(head)\n",
    "    inductive_test_G.add_node(tail)\n",
    "    inductive_test_G.add_edge(head, tail, name = rel)\n",
    "    test_rels.add(rel)\n",
    "\n",
    "relations_str = '\\n'.join(test_rels)\n",
    "with open('data/FB15K/relations_inductive.tsv', 'w') as f:\n",
    "    f.write(relations_str)\n",
    "print('rels', len(test_rels))\n",
    "\n",
    "dev_inductive = ''\n",
    "inductive_dev_G = nx.DiGraph()\n",
    "with open('data/FB15K/dev.tsv', 'r') as f:\n",
    "    for line in f:\n",
    "        items = line.strip().split('\\t')\n",
    "        head = items[0].strip()\n",
    "        tail = items[2].strip()\n",
    "        rel = items[1].strip()\n",
    "        if head in inductive_test_G.nodes or tail in inductive_test_G.nodes or rel not in test_rels:\n",
    "            continue\n",
    "        dev_inductive += head + '\\t' + rel + '\\t' + tail + '\\n'\n",
    "        inductive_dev_G.add_node(head)\n",
    "        inductive_dev_G.add_node(tail)\n",
    "        inductive_dev_G.add_edge(head, tail, name = rel)\n",
    "\n",
    "with open('data/FB15K/dev_inductive.tsv', 'w') as f:\n",
    "    f.write(dev_inductive)\n",
    "\n",
    "train_inductive = ''\n",
    "with open('data/FB15K/train.tsv', 'r') as f:\n",
    "    for line in f:\n",
    "        items = line.strip().split('\\t')\n",
    "        head = items[0].strip()\n",
    "        tail = items[2].strip()\n",
    "        rel = items[1].strip()\n",
    "        if head in inductive_dev_G.nodes or tail in inductive_dev_G.nodes or rel not in test_rels:\n",
    "            continue\n",
    "        train_inductive += head + '\\t' + rel + '\\t' + tail + '\\n'\n",
    "with open('data/FB15K/train_inductive.tsv', 'w') as f:\n",
    "    f.write(train_inductive)"
   ]
  },
  {
   "cell_type": "code",
   "execution_count": 3,
   "metadata": {},
   "outputs": [],
   "source": [
    "entities_dict = {}\n",
    "with open( os.path.join('data/FB15K', 'entity2text.txt') ) as f:\n",
    "    for line in f.readlines():\n",
    "        fields = line.split('\\t')\n",
    "        fields = [p.strip() for p in fields]\n",
    "        entities_dict[ fields[0] ] = fields[1]"
   ]
  },
  {
   "cell_type": "code",
   "execution_count": 5,
   "metadata": {},
   "outputs": [],
   "source": [
    "entitieslong_dict = {}\n",
    "with open( os.path.join('data/FB15K', 'entity2textlong.txt') ) as f:\n",
    "    for line in f.readlines():\n",
    "        fields = line.split('\\t')\n",
    "        fields = [p.strip() for p in fields]\n",
    "        entitieslong_dict[ fields[0] ] = fields[1]"
   ]
  },
  {
   "cell_type": "code",
   "execution_count": 10,
   "metadata": {},
   "outputs": [
    {
     "name": "stdout",
     "output_type": "stream",
     "text": [
      "/m/01dvms\tPatricia Neal\n",
      "/m/09l65\tSinger\n",
      "/m/03m3nzf\tIrrfan Khan\n",
      "/m/0kvrb\tMichael Nyman\n",
      "/m/04_1l0v\tContiguous United States\n",
      "/m/0m6x4\tOlivia de Havilland\n",
      "/m/02jxk\tEuropean Union Member States\n",
      "/m/0cfywh\tJagdeep\n",
      "/m/05h4fjx\tThe Young and the Restless minor characters\n",
      "/m/029cpw\tDon Messick\n",
      "/m/047vp20\tPanelist\n",
      "/m/061zc_\tRajesh Khanna\n",
      "/m/03bx017\tResearcher\n",
      "/m/01dy7j\tEdie Falco\n",
      "/m/0854hr\tGordon Willis\n",
      "/m/0h005\tFred Quimby\n",
      "/m/07_bv_\tManorama\n",
      "/m/05xf75\tTom Hardy\n",
      "/m/0hk18\tEmphysema\n",
      "/m/02q_plc\tElectro hop\n",
      "/m/0bytsc\tNew Prog\n",
      "/m/02vxfw_\tSupervising Sound Editor\n",
      "/m/08mbj32\tTopic Webpage\n",
      "/m/03tp4\tInfectious disease\n",
      "/m/01my929\tLennie Moore\n",
      "/m/02cjrp\tBowler\n",
      "/m/0147fv\tNarrator\n",
      "/m/07djnx\tHarry Stradling\n",
      "/m/04686_j\tPrometheus Award for Best Novel\n",
      "/m/09ly2r6\tEuropean Film Award for Best Composer\n",
      "/m/07s4911\tConservationist-GB\n",
      "/m/05zvq6g\tEuropean Film Award for Best Actress\n",
      "/m/09x_r\tEntrepreneur-GB\n",
      "/m/0lmb5\tHawaii County\n",
      "/m/068bs\tElementary school\n",
      "/m/0bm39zf\tWikipedia, Jonas Brothers Tours\n",
      "/m/01sy5c\tLon Chaney, Sr.\n",
      "/m/01fkv0\tTerence Stamp\n",
      "/m/07t_l23\tBritish Academy Television Award for Best Leading Actress\n",
      "/m/01xsbh\tEdward Fox\n",
      "/m/05ry0p\tSamantha Mathis\n",
      "/m/01xzb6\tDon Henley\n",
      "/m/08chdb\tDavid Kreizman\n",
      "/m/0288crq\tSalim Kumar\n",
      "/m/03lsz8h\tLost - Season 3\n",
      "/m/015zql\tDan Curtis\n",
      "/m/03gwg4w\t2001 Major League Baseball Draft\n"
     ]
    }
   ],
   "source": [
    "keys = entities_dict.keys()\n",
    "keyslong = entitieslong_dict.keys()\n",
    "diff = keys - keyslong\n",
    "# print(keyslong - keys)\n",
    "for i,v in enumerate(list(diff)):\n",
    "    print( v + '\\t' +entities_dict[v] )"
   ]
  },
  {
   "cell_type": "code",
   "execution_count": 46,
   "metadata": {},
   "outputs": [
    {
     "name": "stdout",
     "output_type": "stream",
     "text": [
      "['/m/02qhqz4', '/m/0bth54', '/m/024lff', '/m/062zjtt', '/m/06gb1w', '/m/0ch26b_', '/m/0pc62', '/m/06x43v', '/m/0bby9p5', '/m/01l_pn', '/m/0287477', '/m/02qhlwd', '/m/0gj8nq2', '/m/06wbm8q', '/m/02mpyh', '/m/0661ql3', '/m/05k2xy', '/m/01cycq', '/m/03t97y', '/m/0dtfn', '/m/08984j', '/m/04jpg2p', '/m/0bs5f0b', '/m/0340hj', '/m/0gmcwlb', '/m/047vnkj', '/m/02phtzk', '/m/02vz6dn', '/m/02tktw', '/m/0640y35', '/m/0c3zjn7', '/m/0bh8tgs', '/m/09p0ct', '/m/03459x', '/m/0b2km_', '/m/04gv3db', '/m/0gx1bnj', '/m/01qxc7', '/m/01738w', '/m/0gtv7pk', '/m/0k4d7', '/m/031t2d', '/m/05650n', '/m/0h63q6t', '/m/065zlr', '/m/0d90m', '/m/05t0_2v', '/m/03vfr_', '/m/04w7rn', '/m/028cg00', '/m/0fpv_3_', '/m/03r0g9', '/m/07vn_9', '/m/05sxr_', '/m/0gfsq9', '/m/01f8f7', '/m/02b61v', '/m/05qbbfb', '/m/01d2v1', '/m/02_sr1', '/m/0d_2fb', '/m/09gmmt6', '/m/05q96q6', '/m/0g0x9c', '/m/026f__m', '/m/02nx2k', '/m/02vyyl8', '/m/02rn00y', '/m/09lcsj', '/m/06tpmy', '/m/048scx', '/m/020fcn', '/m/0435vm', '/m/08s6mr', '/m/09sh8k', '/m/06r2h', '/m/02dpl9', '/m/0_b3d', '/m/014nq4', '/m/0cmf0m0', '/m/09k56b7', '/m/072r5v', '/m/0by1wkq', '/m/0bwfwpj', '/m/075wx7_', '/m/05pbl56', '/m/09bw4_', '/m/02qm_f', '/m/01z452', '/m/02q7yfq', '/m/09v8clw', '/m/02fqrf', '/m/05q7874', '/m/0g5838s', '/m/03c7twt', '/m/028kj0', '/m/02rmd_2', '/m/027m5wv', '/m/01sbv9', '/m/043t8t', '/m/08052t3', '/m/053rxgm', '/m/07nt8p', '/m/06fqlk', '/m/04fzfj', '/m/02qyv3h', '/m/02725hs', '/m/03_wm6', '/m/03f7nt', '/m/03nx8mj', '/m/0421v9q', '/m/03y_46', '/m/01qb5d', '/m/0d6_s', '/m/01j8wk', '/m/012s1d', '/m/0db94w', '/m/02dr9j', '/m/03ydlnj', '/m/02qr69m', '/m/04hk0w', '/m/03z20c', '/m/05sns6', '/m/0270k40', '/m/047rkcm', '/m/03m5y9p', '/m/0h1cdwq', '/m/049mql', '/m/048xyn', '/m/0cc5qkt', '/m/03yvf2', '/m/0404j37', '/m/0ds2n', '/m/04f52jw', '/m/02vzpb', '/m/0dp7wt', '/m/03hj5lq', '/m/02vjp3', '/m/051ys82', '/m/0bbw2z6', '/m/0fdv3', '/m/02wgk1', '/m/0h03fhx', '/m/0cc846d', '/m/048yqf', '/m/0c1sgd3', '/m/0dzlbx', '/m/09rsjpv', '/m/024l2y', '/m/06sfk6', '/m/05p1qyh', '/m/0f4_2k', '/m/0292qb', '/m/0h95zbp', '/m/0581vn8', '/m/0642xf3', '/m/0czyxs', '/m/05szq8z', '/m/043tvp3', '/m/0dc_ms', '/m/05zy2cy', '/m/01kff7', '/m/07s846j', '/m/025n07', '/m/03qnc6q', '/m/0kv238', '/m/08hmch', '/m/0645k5', '/m/01gwk3', '/m/07p62k', '/m/09fqgj', '/m/01f7gh', '/m/0dx8gj', '/m/08phg9', '/m/064n1pz', '/m/02q6gfp', '/m/0bw20', '/m/027gy0k', '/m/02yvct', '/m/0dcz8_', '/m/027s39y', '/m/03wj4r8', '/m/0bm2nq', '/m/065ym0c', '/m/06znpjr', '/m/0g7pm1', '/m/01y9jr', '/m/08r4x3', '/m/02mmwk', '/m/03t95n', '/m/04jplwp', '/m/05fm6m', '/m/04lqvlr', '/m/03177r', '/m/047csmy', '/m/0642ykh', '/m/02lk60', '/m/057lbk', '/m/037cr1', '/m/02ctc6', '/m/04s1zr', '/m/09v42sf', '/m/0fr63l', '/m/065_cjc', '/m/07_fj54', '/m/03qcfvw', '/m/0bx_hnp', '/m/0gy0l_', '/m/07yk1xz', '/m/0n_hp', '/m/01qb559', '/m/0660b9b', '/m/0cz8mkh', '/m/0gtvrv3', '/m/07y9w5', '/m/04n52p6', '/m/07p12s', '/m/01f8gz', '/m/0gzlb9', '/m/0473rc', '/m/05c26ss', '/m/0crs0b8', '/m/035w2k', '/m/0ds3t5x', '/m/04ydr95', '/m/02847m9', '/m/0c00zd0', '/m/047wh1', '/m/0dscrwf', '/m/026hh0m', '/m/0ggbhy7', '/m/0879bpq', '/m/032zq6', '/m/02y_lrp', '/m/0fgrm', '/m/026qnh6', '/m/0443v1', '/m/026wlxw', '/m/05h43ls', '/m/08gsvw', '/m/01hqk', '/m/03n0cd', '/m/03kg2v', '/m/08sk8l', '/m/04y9mm8', '/m/0872p_c', '/m/05fcbk7', '/m/016dj8', '/m/0gs973', '/m/05pdd86', '/m/03cp4cn', '/m/05mrf_p', '/m/0dnkmq', '/m/024mpp', '/m/01gglm', '/m/05c46y6', '/m/01flv_', '/m/027j9wd', '/m/0ndwt2w', '/m/09v71cj', '/m/01c22t', '/m/04yg13l', '/m/0ddjy', '/m/0b3n61', '/m/0298n7', '/m/026p4q7', '/m/0127ps', '/m/048vhl', '/m/091z_p', '/m/02qydsh', '/m/04pk1f', '/m/01s3vk', '/m/0by17xn', '/m/026lgs', '/m/09rfpk', '/m/0dr3sl', '/m/0fg04', '/m/05nlx4', '/m/027x7z5', '/m/0bpm4yw', '/m/02wwmhc', '/m/0df92l', '/m/0bmch_x', '/m/078sj4', '/m/05f4_n0', '/m/095z4q', '/m/0992d9', '/m/0bh8yn3', '/m/044g_k', '/m/047n8xt', '/m/03n3gl', '/m/02pxmgz', '/m/07kb7vh', '/m/02f6g5', '/m/08c6k9', '/m/09146g', '/m/02vqhv0', '/m/03tbg6', '/m/05wp1p', '/m/05ch98', '/m/05c9zr', '/m/0c34mt', '/m/0cd2vh9', '/m/04cj79', '/m/0cbv4g', '/m/03_gz8', '/m/033srr', '/m/05dy7p', '/m/031hcx', '/m/05pdh86', '/m/047gn4y', '/m/0640m69', '/m/02qkwl', '/m/01xbxn', '/m/0gg5qcw', '/m/0963mq', '/m/02rb84n', '/m/0ddt_', '/m/04g73n', '/m/0ct2tf5', '/m/01jft4', '/m/0gy30w', '/m/064q5v', '/m/076xkps', '/m/0243cq', '/m/0315w4', '/m/03q0r1', '/m/07k8rt4', '/m/060v34', '/m/076zy_g', '/m/03cmsqb', '/m/0b73_1d', '/m/025ts_z', '/m/07ykkx5', '/m/09pjnd']\n",
      "['/m/06x43v', '/m/0cbv4g', '/m/028cg00', '/m/025ts_z', '/m/04cj79', '/m/01qb559', '/m/047bynf', '/m/065zlr', '/m/01cycq', '/m/05zlld0', '/m/02qydsh', '/m/0dtfn', '/m/0581vn8', '/m/0cc846d', '/m/0fqt1ns', '/m/03n0cd', '/m/01kff7', '/m/01z452', '/m/0d6_s', '/m/095z4q', '/m/064n1pz', '/m/06wbm8q', '/m/05fm6m', '/m/02qkwl', '/m/048xyn', '/m/01flv_', '/m/01f7gh', '/m/027j9wd', '/m/03t97y', '/m/02phtzk', '/m/03cmsqb', '/m/053rxgm', '/m/05pdd86', '/m/02qhqz4', '/m/03yvf2', '/m/0466s8n', '/m/0340hj', '/m/0dx8gj', '/m/0by1wkq', '/m/03xf_m', '/m/03459x', '/m/08sk8l', '/m/01738w', '/m/06gb1w', '/m/05pdh86', '/m/01f8f7', '/m/04ydr95', '/m/0fpv_3_', '/m/026wlxw', '/m/051ys82', '/m/0gx1bnj', '/m/044g_k', '/m/0cc5mcj', '/m/09lcsj', '/m/02fj8n', '/m/0dp7wt', '/m/037cr1', '/m/0gh65c5', '/m/02q7yfq', '/m/05m_jsg', '/m/08fn5b', '/m/047vnkj', '/m/0270k40', '/m/028kj0', '/m/033f8n', '/m/078sj4', '/m/03t95n', '/m/04lqvly', '/m/03m5y9p', '/m/027x7z5', '/m/0bpm4yw', '/m/0dcz8_', '/m/0f4_2k', '/m/01l_pn', '/m/06tpmy', '/m/0d_2fb', '/m/031hcx', '/m/0_b3d', '/m/0gldyz', '/m/0crd8q6', '/m/0dr3sl', '/m/08r4x3', '/m/09rsjpv', '/m/09rfpk', '/m/09v42sf', '/m/08s6mr', '/m/02b61v', '/m/07x4qr', '/m/016dj8', '/m/0btpm6', '/m/01qb5d', '/m/02mpyh', '/m/064q5v', '/m/07yk1xz', '/m/065_cjc', '/m/0crs0b8', '/m/0dzlbx', '/m/02rb84n', '/m/0fr63l', '/m/02x3y41', '/m/048yqf', '/m/0473rc', '/m/060v34', '/m/07ykkx5', '/m/0b2km_', '/m/05sxr_', '/m/08052t3', '/m/085wqm', '/m/05mrf_p', '/m/0gd0c7x', '/m/0ct2tf5', '/m/032zq6', '/m/027s39y', '/m/03ydlnj', '/m/0bth54', '/m/0h1cdwq', '/m/02rn00y', '/m/03hxsv', '/m/0435vm', '/m/02dpl9', '/m/04gp58p', '/m/0fg04', '/m/04h4c9', '/m/0kv238', '/m/076xkps', '/m/0dfw0', '/m/0gmcwlb', '/m/07f_t4', '/m/0h63q6t', '/m/012s1d', '/m/0bmch_x', '/m/0992d9', '/m/020fcn', '/m/06fqlk', '/m/01s3vk', '/m/050gkf', '/m/0k4d7', '/m/04s1zr', '/m/02dr9j', '/m/0dkv90', '/m/076zy_g', '/m/0ddt_', '/m/02qm_f', '/m/027gy0k', '/m/03_gz8', '/m/01gglm', '/m/0gj8nq2', '/m/06r2h', '/m/031t2d', '/m/0d90m', '/m/04yg13l', '/m/0bm2nq', '/m/08phg9', '/m/02mmwk', '/m/08hmch', '/m/01s7w3', '/m/0dc_ms', '/m/091z_p', '/m/02y_lrp', '/m/07sc6nw', '/m/05sxzwc', '/m/09146g', '/m/03nsm5x', '/m/0gg5qcw', '/m/075wx7_', '/m/024lff', '/m/03qcfvw', '/m/02ctc6', '/m/0dscrwf', '/m/057lbk', '/m/08c6k9', '/m/03n3gl', '/m/0ds3t5x', '/m/04n52p6', '/m/02847m9', '/m/0fpkhkz', '/m/047gn4y', '/m/0315w4', '/m/07_k0c0', '/m/0db94w', '/m/0x25q', '/m/02vjp3', '/m/0298n7', '/m/01h7bb', '/m/0872p_c', '/m/0d4htf', '/m/0640m69', '/m/024l2y', '/m/01xbxn', '/m/02nx2k', '/m/06w99h3', '/m/02_fz3', '/m/05q7874', '/m/0bscw', '/m/0g5838s', '/m/047csmy', '/m/06sfk6', '/m/0963mq', '/m/048scx', '/m/031786', '/m/0gy0l_', '/m/02q6gfp', '/m/03wj4r8', '/m/0pc62', '/m/0ds2n', '/m/02lk60', '/m/0bh8yn3', '/m/03cp4cn', '/m/02vzpb', '/m/0g0x9c', '/m/0bl3nn', '/m/0879bpq', '/m/0b3n61', '/m/09v8clw', '/m/0fdv3', '/m/01qxc7', '/m/03f7nt', '/m/05pbl56', '/m/02_sr1', '/m/03cd0x', '/m/05q96q6', '/m/0gtvrv3', '/m/0b1y_2', '/m/05c46y6', '/m/09sh8k', '/m/0bbw2z6', '/m/09k56b7', '/m/0bh8tgs', '/m/0645k5', '/m/08984j', '/m/0cc5qkt', '/m/0gs973', '/m/02tktw', '/m/0ndwt2w', '/m/0ddjy', '/m/0292qb', '/m/04jplwp', '/m/072r5v', '/m/05q54f5', '/m/0bx_hnp', '/m/03177r', '/m/0h14ln', '/m/026f__m', '/m/04jpg2p', '/m/07p62k', '/m/026p4q7', '/m/09bw4_', '/m/04y9mm8', '/m/01hqk', '/m/09fqgj', '/m/0ch26b_', '/m/065ym0c', '/m/07nxnw', '/m/05qbbfb', '/m/0by17xn', '/m/05nlx4', '/m/03mh94', '/m/09gmmt6', '/m/04pk1f', '/m/0gvs1kt', '/m/02725hs', '/m/0421v9q', '/m/0642ykh', '/m/026qnh6', '/m/01y9jr', '/m/05650n', '/m/043tvp3', '/m/03c7twt', '/m/0czyxs', '/m/05p1qyh', '/m/02yvct', '/m/09pjnd', '/m/01c22t', '/m/04f52jw', '/m/05dy7p', '/m/027m5wv', '/m/01f8gz', '/m/02q5bx2', '/m/0b73_1d', '/m/02w86hz', '/m/07nt8p', '/m/05sns6', '/m/0bwfwpj', '/m/05fcbk7', '/m/04g73n', '/m/05f4_n0', '/m/0ggbhy7', '/m/047n8xt', '/m/0bs5f0b', '/m/06znpjr', '/m/033srr', '/m/02vqhv0', '/m/03y_46', '/m/02f6g5', '/m/0c00zd0', '/m/0c38gj', '/m/02wwmhc', '/m/08gsvw', '/m/0287477', '/m/02vyyl8', '/m/047rkcm', '/m/05qbckf', '/m/04lqvlr', '/m/02qhlwd', '/m/01hvjx', '/m/0gj96ln', '/m/03tbg6', '/m/04ghz4m', '/m/014nq4', '/m/049mql', '/m/05t0_2v', '/m/03whyr', '/m/0gfsq9', '/m/048vhl', '/m/07xvf', '/m/0cz8mkh', '/m/0ndsl1x', '/m/0c34mt', '/m/03vfr_', '/m/05zy2cy', '/m/03qnc6q', '/m/0127ps', '/m/03r0g9', '/m/0h95zbp', '/m/01d2v1', '/m/026hh0m', '/m/0crc2cp', '/m/09p0ct', '/m/01j8wk', '/m/05c9zr', '/m/025n07', '/m/026lgs', '/m/02qyv3h', '/m/0642xf3', '/m/0df92l', '/m/05ch98', '/m/03kg2v', '/m/03z20c']\n",
      "/film/film_job/films_with_this_crew_job./film/film_crew_gig/film\n"
     ]
    }
   ],
   "source": [
    "with open('data/FB15K/train.tsv', 'r') as f:\n",
    "    lines = f.readlines()\n",
    "    random.shuffle(lines)\n",
    "    i = 0\n",
    "    for line in lines:\n",
    "        items = line.split('\\t')\n",
    "        items = [p.strip() for p in items]\n",
    "        edges = G.edges(items[0], data = True)\n",
    "        # print(*list(edges), sep =  '\\n--\\n')\n",
    "\n",
    "        print( list(G.predecessors(items[0])))\n",
    "\n",
    "        print( list(G.successors(items[0])))\n",
    "\n",
    "        predecessor = random.choice(list(G.predecessors(items[0])))\n",
    "        rel_dict = dict( G.get_edge_data(items[0], predecessor))\n",
    "\n",
    "        print(rel_dict['name'])\n",
    "\n",
    "        break\n",
    "        rels = []\n",
    "        for itm in edges:\n",
    "            if itm[1] == items[2]:\n",
    "                rels.append(itm[2])\n",
    "\n",
    "        if len(rels) > 10:\n",
    "            print(entities_dict[items[0]] ,\"--\", entities_dict[items[2]])\n",
    "            # print(edges, sep='\\n')\n",
    "            for rel in rels:\n",
    "                print(rel)\n",
    "        break"
   ]
  },
  {
   "cell_type": "code",
   "execution_count": 48,
   "metadata": {},
   "outputs": [
    {
     "name": "stdout",
     "output_type": "stream",
     "text": [
      "ok\n"
     ]
    }
   ],
   "source": [
    "myl = [1]\n",
    "if myl:\n",
    "    print('ok')"
   ]
  },
  {
   "cell_type": "code",
   "execution_count": null,
   "metadata": {},
   "outputs": [],
   "source": []
  }
 ],
 "metadata": {
  "kernelspec": {
   "display_name": "torch",
   "language": "python",
   "name": "python3"
  },
  "language_info": {
   "codemirror_mode": {
    "name": "ipython",
    "version": 3
   },
   "file_extension": ".py",
   "mimetype": "text/x-python",
   "name": "python",
   "nbconvert_exporter": "python",
   "pygments_lexer": "ipython3",
   "version": "3.8.18"
  },
  "orig_nbformat": 4
 },
 "nbformat": 4,
 "nbformat_minor": 2
}
