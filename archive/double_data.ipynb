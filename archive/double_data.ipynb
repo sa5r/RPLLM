{
 "cells": [
  {
   "cell_type": "code",
   "execution_count": 1,
   "metadata": {},
   "outputs": [
    {
     "name": "stdout",
     "output_type": "stream",
     "text": [
      "\n",
      "Relations loaded\n"
     ]
    }
   ],
   "source": [
    "import random\n",
    "import re\n",
    "\n",
    "def load_relations(path: str):\n",
    "    ''\n",
    "\n",
    "    relations = []\n",
    "    with open(path) as f:\n",
    "        for line in f.readlines():\n",
    "            relations.append(line.strip())\n",
    "    \n",
    "    print('\\nRelations loaded')\n",
    "    return relations\n",
    "\n",
    "relations = load_relations('data/FB15K/relations.txt')"
   ]
  },
  {
   "cell_type": "code",
   "execution_count": 2,
   "metadata": {},
   "outputs": [],
   "source": [
    "rel_dct = {}\n",
    "for id, rel in enumerate( relations):\n",
    "    words = re.split('/|_', rel)\n",
    "    temp_d = {}\n",
    "    for item in words:\n",
    "        temp_d[item] = None\n",
    "    \n",
    "    words = list(temp_d.keys())\n",
    "    # words = words[1:]\n",
    "    rel_dct[rel] = ( id, ' '.join(words[1:4]) )\n",
    "    # print( words[1:3] )\n",
    "\n",
    "s = '\\n'\n",
    "for id, item in rel_dct.items():\n",
    "    s += '/dbl' + str(item[0]) + '\\t' + item[1] + '\\n'\n",
    "\n",
    "with open('data/FB15K/entity2text_double.txt', 'a') as f:\n",
    "    f.write(s)"
   ]
  },
  {
   "cell_type": "code",
   "execution_count": 3,
   "metadata": {},
   "outputs": [],
   "source": [
    "lines = []\n",
    "with open('data/FB15K/train.tsv', 'r') as f:\n",
    "    lines = f.readlines()\n",
    "\n",
    "s = '\\n'\n",
    "for line in lines:\n",
    "    fields = line.split('\\t')\n",
    "    fields = [p.strip() for p in fields]\n",
    "    new_entity = '/dbl' + str( rel_dct[ fields[1] ][0] )\n",
    "    if random.random() > 0.5:\n",
    "        s += new_entity + '\\t' + fields[1] + '\\t' + fields[2] + '\\n'\n",
    "    else:\n",
    "        s +=  fields[0] + '\\t' + fields[1] + '\\t' + new_entity + '\\n'\n",
    "\n",
    "with open('data/FB15K/train_double.tsv', 'a') as f:\n",
    "    f.write(s)"
   ]
  }
 ],
 "metadata": {
  "kernelspec": {
   "display_name": "torch",
   "language": "python",
   "name": "python3"
  },
  "language_info": {
   "codemirror_mode": {
    "name": "ipython",
    "version": 3
   },
   "file_extension": ".py",
   "mimetype": "text/x-python",
   "name": "python",
   "nbconvert_exporter": "python",
   "pygments_lexer": "ipython3",
   "version": "3.8.18"
  },
  "orig_nbformat": 4
 },
 "nbformat": 4,
 "nbformat_minor": 2
}
